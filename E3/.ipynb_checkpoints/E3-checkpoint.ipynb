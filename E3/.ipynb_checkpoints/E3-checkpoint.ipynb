{
 "cells": [
  {
   "cell_type": "markdown",
   "metadata": {},
   "source": [
    "# CFDoRF - Exercise 3 - Iterative methods for solving Steady-State equations\n",
    "\n",
    "Comparison between Jacobi and Gauss-Seidler (with and without Successive Over-Relaxation) methods for solving Poisson's equation: \n",
    "\n",
    "$f_{xx}+f_{yy} = S$ \n",
    "\n",
    "Each of these methods will be tested with the same grid and the same convergence criteria i.e. when the averaged residual between two consecutive iterations drops below a desired tolerance value."
   ]
  },
  {
   "cell_type": "code",
   "execution_count": 1,
   "metadata": {},
   "outputs": [],
   "source": [
    "# Dependancies:\n",
    "import numpy as np\n",
    "import timeit\n",
    "from matplotlib import pyplot as plt\n",
    "import pandas as pd\n",
    "\n",
    "# Uniform source term: \n",
    "S = 0 \n",
    "\n",
    "# Discretization along x:\n",
    "Lx = 2.0 # Length\n",
    "NPx = 40 # Number of points\n",
    "dx = Lx/(NPx-1) # Grid step\n",
    "xspan = np.linspace(0,Lx,NPx) # Discretized axis\n",
    "\n",
    "# Discretization along y:\n",
    "Ly = 1.5 # Length\n",
    "NPy = 30 # Number of points\n",
    "dy = Ly/(NPy-1) # Grid \n",
    "yspan = np.linspace(0,Ly,NPy) # Discretized axis\n",
    "\n",
    "# Memory allocation (also used first guess values):\n",
    "F0 = [[0.0 for j in range(NPy)] for i in range (NPx)]# list \n",
    "F0 = np.array(F0) # numpy array\n",
    "\n",
    "# Nonzero boundary conditions:\n",
    "rangeBC = range(int(1/3*NPy), int(2/3*NPy))\n",
    "F0[0,rangeBC] = 1.\n",
    "\n",
    "# Tolerance:\n",
    "Tol = 1E-4\n",
    "\n",
    "# Maximum Number of iterations:\n",
    "max_iter = 10000 \n",
    "\n",
    "# Successive over-relaxation comprised between 1 and 2:\n",
    "Nb = 10 # Number of values of beta that will be tried\n",
    "betas = np.linspace(1,1.999,Nb)"
   ]
  },
  {
   "cell_type": "markdown",
   "metadata": {},
   "source": [
    "*1. Jacobi method:*"
   ]
  },
  {
   "cell_type": "code",
   "execution_count": 2,
   "metadata": {},
   "outputs": [],
   "source": [
    "# Time:\n",
    "start = timeit.default_timer()\n",
    "\n",
    "# First guess values:\n",
    "F = np.copy(F0)\n",
    "\n",
    "for n in range(max_iter):\n",
    "    \n",
    "    # Auxiliary matrix for current iteration:\n",
    "    Faux = np.copy(F)\n",
    "    \n",
    "    # Constants:\n",
    "    dx2 = dx**2\n",
    "    dy2 = dy**2\n",
    "    \n",
    "    # Internal points:\n",
    "    for j in range(1,NPy-2):\n",
    "        for i in range(1,NPx-2):\n",
    "            F[i][j] = 1/(2/dx2+2/dy2)*((Faux[i+1,j]+Faux[i-1,j])/dx2+(Faux[i,j+1]+Faux[i,j-1])/dy2-S)\n",
    "            \n",
    "            \n",
    "    # Check for convergence and break if condition is satisfied:\n",
    "    res = np.sum(abs(F-Faux))/(NPx-1)/(NPy-1) # average residual\n",
    "    \n",
    "    if res < Tol:\n",
    "        break\n",
    "    elif n==max_iter-1:\n",
    "        print(\"WARNING: Maximum number of iteration was reached!\")\n",
    "\n",
    "# Save values:\n",
    "F_Jacobi = np.copy(F)\n",
    "n_Jacobi = n\n",
    "time_Jacobi = timeit.default_timer()-start"
   ]
  },
  {
   "cell_type": "markdown",
   "metadata": {},
   "source": [
    "*2. Gauss-Siedler:*"
   ]
  },
  {
   "cell_type": "code",
   "execution_count": 3,
   "metadata": {},
   "outputs": [],
   "source": [
    "# Allocate memory\n",
    "F_GS = [[[0.0 for k in range(Nb)] for j in range(NPy)] for i in range(NPx)]\n",
    "F_GS = np.array(F_GS)\n",
    "n_GS = np.zeros(Nb)\n",
    "time_GS = np.zeros(Nb)\n",
    "\n",
    "for gsi in range(Nb): \n",
    "\n",
    "    # Time:\n",
    "    start = timeit.default_timer()\n",
    "\n",
    "    # First guess values:\n",
    "    F = np.copy(F0)\n",
    "\n",
    "    # Successive over-relaxation:\n",
    "    beta = betas[gsi]\n",
    "\n",
    "    for n in range(max_iter):\n",
    "\n",
    "        # Auxiliary matrix for current iteration:\n",
    "        Faux = np.copy(F)\n",
    "\n",
    "        # Constants:\n",
    "        dx2 = dx**2\n",
    "        dy2 = dy**2\n",
    "\n",
    "        # Internal points:\n",
    "        for j in range(1,NPy-2):\n",
    "            for i in range(1,NPx-2):\n",
    "                F[i][j] = beta/(2/dx2+2/dy2)*((F[i+1,j]+F[i-1,j])/dx2+(F[i,j+1]+F[i,j-1])/dy2-S)+(1-beta)*F[i,j]\n",
    "\n",
    "\n",
    "        # Check for convergence and break if condition is satisfied:\n",
    "        res = np.sum(abs(F-Faux))/(NPx-1)/(NPy-1) # average residual\n",
    "\n",
    "        if res < Tol:\n",
    "            break\n",
    "        elif n==max_iter-1:\n",
    "            print(\"WARNING: Maximum number of iteration was reached!\")\n",
    "\n",
    "    # Save values:\n",
    "    F_GS[:,:,gsi] = np.copy(F)\n",
    "    n_GS[gsi] = n\n",
    "    time_GS[gsi] = timeit.default_timer()-start\n",
    "\n",
    "    # Best value of beta between those we tested:\n",
    "    imin = np.argmin(n_GS)"
   ]
  },
  {
   "cell_type": "markdown",
   "metadata": {},
   "source": [
    "*3. Comparing the two methods*:"
   ]
  },
  {
   "cell_type": "code",
   "execution_count": 4,
   "metadata": {},
   "outputs": [
    {
     "name": "stdout",
     "output_type": "stream",
     "text": [
      "Jacobi Method \t--\tIterations: 223   \tTime: 0.717537 s \n",
      "GS Method \t--\tIterations: 174   \tTime: 0.965371 s \tbeta: 1.000000 \n",
      "GS Method \t--\tIterations: 156   \tTime: 0.946958 s \tbeta: 1.111000 \n",
      "GS Method \t--\tIterations: 137   \tTime: 0.733599 s \tbeta: 1.222000 \n",
      "GS Method \t--\tIterations: 118   \tTime: 0.504997 s \tbeta: 1.333000 \n",
      "GS Method \t--\tIterations: 99   \tTime: 0.496907 s \tbeta: 1.444000 \n",
      "GS Method \t--\tIterations: 80   \tTime: 0.354938 s \tbeta: 1.555000 \n",
      "GS Method \t--\tIterations: 60   \tTime: 0.259118 s \tbeta: 1.666000 \n",
      "GS Method \t--\tIterations: 37   \tTime: 0.151559 s \tbeta: 1.777000 \t<--- plotted\n",
      "GS Method \t--\tIterations: 42   \tTime: 0.185401 s \tbeta: 1.888000 \n",
      "GS Method \t--\tIterations: 6332   \tTime: 29.262125 s \tbeta: 1.999000 \n"
     ]
    }
   ],
   "source": [
    "# Performance:\n",
    "print(\"Jacobi Method \\t--\\tIterations: %d   \\tTime: %f s \"%(n_Jacobi,time_Jacobi))\n",
    "\n",
    "for i in range(Nb):\n",
    "    if i==imin:\n",
    "        print(\"GS Method \\t--\\tIterations: %d   \\tTime: %f s \\tbeta: %f \\t<--- plotted\"%(n_GS[i],time_GS[i],betas[i]))\n",
    "    \n",
    "    else:\n",
    "        print(\"GS Method \\t--\\tIterations: %d   \\tTime: %f s \\tbeta: %f \"%(n_GS[i],time_GS[i],betas[i]))"
   ]
  },
  {
   "cell_type": "markdown",
   "metadata": {},
   "source": [
    "4. *Let's plot one of the results:*"
   ]
  },
  {
   "cell_type": "code",
   "execution_count": 5,
   "metadata": {},
   "outputs": [
    {
     "data": {
      "image/png": "[encoded data removed]",
      "text/plain": [
       "<Figure size 432x288 with 2 Axes>"
      ]
     },
     "metadata": {
      "needs_background": "light"
     },
     "output_type": "display_data"
    }
   ],
   "source": [
    "#Plot:\n",
    "X, Y = np.meshgrid(xspan,yspan)\n",
    "fig, ax = plt.subplots()\n",
    "cp = ax.contourf(X, Y, np.transpose(F_GS[:,:,imin]))\n",
    "plt.xlabel('x [m]')\n",
    "plt.ylabel('y [m]')\n",
    "cbar = fig.colorbar(cp)"
   ]
  }
 ],
 "metadata": {
  "kernelspec": {
   "display_name": "Python 3",
   "language": "python",
   "name": "python3"
  },
  "language_info": {
   "codemirror_mode": {
    "name": "ipython",
    "version": 3
   },
   "file_extension": ".py",
   "mimetype": "text/x-python",
   "name": "python",
   "nbconvert_exporter": "python",
   "pygments_lexer": "ipython3",
   "version": "3.7.0"
  }
 },
 "nbformat": 4,
 "nbformat_minor": 2
}
