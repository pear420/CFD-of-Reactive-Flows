{
 "cells": [
  {
   "cell_type": "markdown",
   "metadata": {},
   "source": [
    "*CFDoRF - Exercise 3 - Iterative methods for solving Steady-State equations*\n",
    "\n",
    "Comparison between Jacobi, Gauss-Seidler and Successive Over-Relaxation Method for solving Poisson's equation: fxx+fyy = S\n",
    "\n",
    "Each of these methods will be tested with the same grid and the same convergence criteria i.e. when the averaged residual between two consecutive iterations drops below a desired tolerance value."
   ]
  },
  {
   "cell_type": "code",
   "execution_count": 2,
   "metadata": {},
   "outputs": [],
   "source": [
    "# Dependancies:\n",
    "import numpy as np\n",
    "\n",
    "# Tolerance:\n",
    "Tol = 1E-4\n",
    "\n",
    "# Maximum Number of iterations:\n",
    "max_iter = 5000 \n",
    "\n",
    "# Discretization along x:\n",
    "Lx = 2.0 # Length\n",
    "NPx = 40 # Number of points\n",
    "dx = Lx/(NPx-1) # Grid step\n",
    "\n",
    "# Discretization along y:\n",
    "Ly = 1.5 # Length\n",
    "NPy = 30 # Number of points\n",
    "dy = Ly/(NPy-1) # Grid \n",
    "\n",
    "# Memory allocation:\n",
    "F = [[0.0 for j in range(NPy)] for i in range (NPx)]\n",
    "F = array"
   ]
  },
  {
   "cell_type": "markdown",
   "metadata": {},
   "source": [
    "*1. Jacobi method:*"
   ]
  },
  {
   "cell_type": "code",
   "execution_count": null,
   "metadata": {},
   "outputs": [],
   "source": []
  }
 ],
 "metadata": {
  "kernelspec": {
   "display_name": "Python 3",
   "language": "python",
   "name": "python3"
  },
  "language_info": {
   "codemirror_mode": {
    "name": "ipython",
    "version": 3
   },
   "file_extension": ".py",
   "mimetype": "text/x-python",
   "name": "python",
   "nbconvert_exporter": "python",
   "pygments_lexer": "ipython3",
   "version": "3.7.0"
  }
 },
 "nbformat": 4,
 "nbformat_minor": 2
}
